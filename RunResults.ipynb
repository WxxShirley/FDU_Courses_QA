{
 "cells": [
  {
   "cell_type": "code",
   "execution_count": 1,
   "metadata": {},
   "outputs": [],
   "source": [
    "from Classifier import *"
   ]
  },
  {
   "cell_type": "code",
   "execution_count": 2,
   "metadata": {},
   "outputs": [
    {
     "name": "stderr",
     "output_type": "stream",
     "text": [
      "Building prefix dict from the default dictionary ...\n",
      "Loading model from cache /var/folders/tq/ffg33_k93539mrjb6hp916dr0000gn/T/jieba.cache\n",
      "Loading model cost 0.649 seconds.\n",
      "Prefix dict has been built successfully.\n"
     ]
    }
   ],
   "source": [
    "que = Question_classify()\n",
    "true_ans = [0,0,1,1,4,6,8,9,2,3,7,1]\n",
    "questions = [\n",
    "    \"模式识别与机器学习给分怎么样\",\n",
    "    \"营养与健康评价好不好\",\n",
    "    \"金理老师教哪些课程\",\n",
    "    \"汪卫老师上什么课\",\n",
    "    \"中文系开什么课\",\n",
    "    \"陶晓鹏老师和危辉老师一起上的课是什么\",\n",
    "    \"计算机学院开设的给分好的专业选修\",\n",
    "    \"通识教育选修中给分不错的课\",\n",
    "    \"中国当代小说选读这门课的类型\",\n",
    "    \"毛迪林老师教哪些专业必修课\",\n",
    "    \"陈阳老师教多少门课\",\n",
    "    \"曹袖老师教什么课\",\n",
    "]"
   ]
  },
  {
   "cell_type": "code",
   "execution_count": 3,
   "metadata": {},
   "outputs": [
    {
     "name": "stdout",
     "output_type": "stream",
     "text": [
      "问题 1 正确判断\n",
      "问题 2 正确判断\n",
      "问题 3 正确判断\n",
      "问题 4 正确判断\n",
      "问题 5 错误判断\n",
      "问题 6 正确判断\n",
      "问题 7 正确判断\n",
      "问题 8 正确判断\n",
      "问题 9 正确判断\n",
      "问题 10 正确判断\n",
      "问题 11 正确判断\n",
      "问题 12 正确判断\n",
      "正确判断的比例为: 0.9166666666666666\n"
     ]
    }
   ],
   "source": [
    "count = 0\n",
    "for question in questions:\n",
    "    res = que.predict(question)\n",
    "    idx = questions.index(question)\n",
    "    if res == true_ans[idx]:\n",
    "        count+= 1\n",
    "        print(\"问题\",idx+1,\"正确判断\")\n",
    "    else :\n",
    "        print(\"问题\",idx+1,\"错误判断\")\n",
    "\n",
    "print(\"正确判断的比例为:\",str(count/len(true_ans)))"
   ]
  },
  {
   "cell_type": "code",
   "execution_count": 4,
   "metadata": {},
   "outputs": [
    {
     "name": "stdout",
     "output_type": "stream",
     "text": [
      "4\n",
      "5\n"
     ]
    }
   ],
   "source": [
    "print(que.predict(\"ut开设的课\"))\n",
    "print(que.predict(\"ut开设的sst课程有哪些\"))"
   ]
  },
  {
   "cell_type": "code",
   "execution_count": 1,
   "metadata": {},
   "outputs": [],
   "source": [
    "from snownlp import sentiment\n",
    "from snownlp import SnowNLP"
   ]
  },
  {
   "cell_type": "code",
   "execution_count": 3,
   "metadata": {},
   "outputs": [
    {
     "name": "stdout",
     "output_type": "stream",
     "text": [
      "0.5441604536524227\n"
     ]
    }
   ],
   "source": [
    "s = SnowNLP(u'水课，学不到什么内容')\n",
    "print(s.sentiments)"
   ]
  },
  {
   "cell_type": "code",
   "execution_count": 5,
   "metadata": {},
   "outputs": [
    {
     "name": "stdout",
     "output_type": "stream",
     "text": [
      "0.28764433163142267\n"
     ]
    }
   ],
   "source": [
    "sentiment.train('neg.txt','pos.txt')\n",
    "print(sentiment.classify('水课，学不到什么内容'))"
   ]
  },
  {
   "cell_type": "markdown",
   "metadata": {},
   "source": [
    "正面评价"
   ]
  },
  {
   "cell_type": "code",
   "execution_count": 6,
   "metadata": {},
   "outputs": [
    {
     "name": "stdout",
     "output_type": "stream",
     "text": [
      "0.9767154940222228\n",
      "0.954307245653487\n",
      "0.7806843196361892\n"
     ]
    }
   ],
   "source": [
    "pos_reviews = [\n",
    "    \"这门课虽然内容比较硬核，任务多，但是可以学到很多专业、具体的知识，收获很大\",\n",
    "    \"老师上课很幽默，讨论课的助教人很好，总之很开心的一门课\",\n",
    "    \"给分不错，可以上\"\n",
    "]\n",
    "for review in pos_reviews:\n",
    "    print(SnowNLP(review).sentiments)"
   ]
  },
  {
   "cell_type": "markdown",
   "metadata": {},
   "source": [
    "负面评价"
   ]
  },
  {
   "cell_type": "code",
   "execution_count": 7,
   "metadata": {},
   "outputs": [
    {
     "name": "stdout",
     "output_type": "stream",
     "text": [
      "0.008523681766198221\n",
      "0.006569151820468133\n",
      "0.025142433101425943\n"
     ]
    }
   ],
   "source": [
    "neg_reviews = [\n",
    "    \"给分不好，太坑了\",\n",
    "    \"努力了一学期，考前背了很多知识，把BBS上的历年考题都看了，老师还是给我一个B+，生气\",\n",
    "    \"PPT巨多，课程无聊\"\n",
    "]\n",
    "for review in neg_reviews:\n",
    "    print(SnowNLP(review).sentiments)"
   ]
  },
  {
   "cell_type": "code",
   "execution_count": 1,
   "metadata": {},
   "outputs": [],
   "source": [
    "from questionProcess import *"
   ]
  },
  {
   "cell_type": "markdown",
   "metadata": {},
   "source": [
    "### 问题0 - nm 给分 （某门课程的给分/评价情况）"
   ]
  },
  {
   "cell_type": "code",
   "execution_count": 16,
   "metadata": {},
   "outputs": [
    {
     "name": "stdout",
     "output_type": "stream",
     "text": [
      "抽象问题为: nm给分怎么样\n",
      "使用模版编号：  0\n",
      "问题模版： nm 给分\n",
      "['模式识别与机器学习/nm', '给分/v', '怎么样/r']\n",
      "查询结果： 模式识别与机器学习评价情况为邱博的课，内容很硬核，能学到很多机器学习、深度学习的内容~\n"
     ]
    }
   ],
   "source": [
    "que = Question()\n",
    "result = que.process_question(\"模式识别与机器学习给分怎么样\")\n",
    "print(que.question_posseg())\n",
    "print(\"查询结果：\",result)"
   ]
  },
  {
   "cell_type": "code",
   "execution_count": 17,
   "metadata": {},
   "outputs": [
    {
     "name": "stdout",
     "output_type": "stream",
     "text": [
      "抽象问题为: nm的评价\n",
      "使用模版编号：  0\n",
      "问题模版： nm 给分\n",
      "['体育舞蹈/nm', '的/uj', '评价/n']\n",
      "查询结果： 体育舞蹈评价情况为一学期能学两支舞，运动量不算大但很有趣，给分也很好~\n"
     ]
    }
   ],
   "source": [
    "result = que.process_question(\"体育舞蹈的评价\")\n",
    "print(que.question_posseg())\n",
    "print(\"查询结果：\",result)"
   ]
  },
  {
   "cell_type": "markdown",
   "metadata": {},
   "source": [
    "### 问题1 - rr 课程 （某位老师所教授的课程）"
   ]
  },
  {
   "cell_type": "code",
   "execution_count": 21,
   "metadata": {},
   "outputs": [
    {
     "name": "stdout",
     "output_type": "stream",
     "text": [
      "抽象问题为: rr老师教哪些课\n",
      "使用模版编号：  1\n",
      "问题模版： rr 课程\n",
      "['危辉/rr', '老师/n', '教/v', '哪些/r', '课/n']\n",
      "查询结果： 危辉教授的课程有：人工智能A、从计算到智能~\n"
     ]
    }
   ],
   "source": [
    "result = que.process_question(\"危辉老师教哪些课\")\n",
    "print(que.question_posseg())\n",
    "print(\"查询结果：\",result)"
   ]
  },
  {
   "cell_type": "markdown",
   "metadata": {},
   "source": [
    "### 问题2 - nm 类型 （某门课程的类型） "
   ]
  },
  {
   "cell_type": "code",
   "execution_count": 23,
   "metadata": {},
   "outputs": [
    {
     "name": "stdout",
     "output_type": "stream",
     "text": [
      "抽象问题为: nm属于什么类型\n",
      "使用模版编号：  2\n",
      "问题模版： nm 类型\n",
      "['华语电影评析/nm', '属于/v', '什么/r', '类型/n']\n",
      "查询结果:  华语电影评析这门课的类型为通识教育选修~\n"
     ]
    }
   ],
   "source": [
    "result = que.process_question(\"华语电影评析属于什么类型\")\n",
    "print(que.question_posseg())\n",
    "print(\"查询结果: \",result)"
   ]
  },
  {
   "cell_type": "markdown",
   "metadata": {},
   "source": [
    "### 问题3 - rr sst 课程 （某位老师教的某种类型的课程）"
   ]
  },
  {
   "cell_type": "code",
   "execution_count": 24,
   "metadata": {},
   "outputs": [
    {
     "name": "stdout",
     "output_type": "stream",
     "text": [
      "抽象问题为: rr老师上的sst课程\n",
      "使用模版编号：  3\n",
      "问题模版： rr sst 课程\n",
      "['金理/rr', '老师/n', '上/f', '的/uj', '七大模块/sst', '课程/n']\n",
      "查询结果:  金理开设的七大模块的课程有: 中国当代小说选读~\n"
     ]
    }
   ],
   "source": [
    "result = que.process_question(\"金理老师上的七大模块课程\")\n",
    "print(que.question_posseg())\n",
    "print(\"查询结果: \",result)"
   ]
  },
  {
   "cell_type": "markdown",
   "metadata": {},
   "source": [
    "### 问题4 -  ut 课程（某个院系开设的课程）"
   ]
  },
  {
   "cell_type": "code",
   "execution_count": 30,
   "metadata": {},
   "outputs": [
    {
     "name": "stdout",
     "output_type": "stream",
     "text": [
      "抽象问题为: ut开设了哪些课程\n",
      "使用模版编号：  4\n",
      "问题模版： ut 课程\n",
      "['计算机科学技术学院/ut', '开设/v', '了/ul', '哪些/r', '课程/n']\n",
      "查询结果:  计算机科学技术学院开设的课程有: 数学建模、分布式系统、逆向工程原理、虚拟现实引论、LINUX操作系统、集合与图论、计算思维、操作系统、信息论与编码、代数结构与数理逻辑、计算机原理、数字信号处理、模式识别与机器学习、模式识别、计算机视觉、数字逻辑与部件设计、计算机网络、数据库与数据仓库设计、自然语言处理、从计算到智能、游戏开发基础、人工智能A、数据库引论、MATLAB程序设计~\n"
     ]
    }
   ],
   "source": [
    "result = que.process_question(\"计算机科学技术学院开设了哪些课程\")\n",
    "print(que.question_posseg())\n",
    "print(\"查询结果: \",result)"
   ]
  },
  {
   "cell_type": "markdown",
   "metadata": {},
   "source": [
    "### 问题5 - ut sst 课程 （某个院系开设的某种类型的课程）"
   ]
  },
  {
   "cell_type": "code",
   "execution_count": 31,
   "metadata": {},
   "outputs": [
    {
     "name": "stdout",
     "output_type": "stream",
     "text": [
      "抽象问题为: ut开设了哪些sst课程\n",
      "使用模版编号：  5\n",
      "问题模版： ut sst 课程\n",
      "['中文系/ut', '开设/v', '了/ul', '哪些/r', '七大模块/sst', '课程/n']\n",
      "查询结果:  中文系开设的七大模块类型的课程有中国现代散文导读、古典诗词导读、中国当代小说选读等～\n"
     ]
    }
   ],
   "source": [
    "result = que.process_question(\"中文系开设了哪些七大模块课程\")\n",
    "print(que.question_posseg())\n",
    "print(\"查询结果: \",result)"
   ]
  },
  {
   "cell_type": "markdown",
   "metadata": {},
   "source": [
    "### 问题6 - rr rr 课程（教师a与教师b一起上的课）"
   ]
  },
  {
   "cell_type": "code",
   "execution_count": 32,
   "metadata": {},
   "outputs": [
    {
     "name": "stdout",
     "output_type": "stream",
     "text": [
      "抽象问题为: rr老师和陶晓鹏老师一起上的课有哪些\n",
      "使用模版编号：  6\n",
      "问题模版： rr rr 课程\n",
      "in\n",
      "['危辉/rr', '老师/n', '和/c', '陶晓鹏/rr', '老师/n', '一起/m', '上/f', '的/uj', '课/n', '有/v', '哪些/r']\n",
      "查询结果:  危辉和陶晓鹏共同上的课是从计算到智能~\n"
     ]
    }
   ],
   "source": [
    "result = que.process_question(\"危辉老师和陶晓鹏老师一起上的课有哪些\")\n",
    "print(que.question_posseg())\n",
    "print(\"查询结果: \",result)"
   ]
  },
  {
   "cell_type": "markdown",
   "metadata": {},
   "source": [
    "### 问题7 - rr 授课数量"
   ]
  },
  {
   "cell_type": "code",
   "execution_count": 33,
   "metadata": {},
   "outputs": [
    {
     "name": "stdout",
     "output_type": "stream",
     "text": [
      "抽象问题为: rr老师上几门课程\n",
      "使用模版编号：  7\n",
      "问题模版： rr 课程数量\n",
      "['张建国/rr', '老师/n', '上/f', '几门/m', '课程/n']\n",
      "查询结果:  张建国授课数量为1~\n"
     ]
    }
   ],
   "source": [
    "result = que.process_question(\"张建国老师上几门课程？\")\n",
    "print(que.question_posseg())\n",
    "print(\"查询结果: \",result)"
   ]
  },
  {
   "cell_type": "markdown",
   "metadata": {},
   "source": [
    "### 问题8 - ut sst 评价较好的课程 （某个学院开设的某个类型的给分不错的课程）"
   ]
  },
  {
   "cell_type": "code",
   "execution_count": 41,
   "metadata": {},
   "outputs": [
    {
     "name": "stdout",
     "output_type": "stream",
     "text": [
      "抽象问题为: ut开设的评价不错的sst有哪些\n",
      "使用模版编号：  8\n",
      "问题模版： ut sst 给分好课程\n",
      "分布式系统 0.7646865421340159\n",
      "虚拟现实引论 0.4893696831700147\n",
      "模式识别与机器学习 0.4513443389333923\n",
      "['计算机科学技术学院/ut', '开设/v', '的/uj', '评价/n', '不错/a', '的/uj', '专业选修/sst', '有/v', '哪些/r']\n",
      "查询结果:  计算机科学技术学院开设的给分好的专业选修有: 分布式系统、虚拟现实引论、模式识别与机器学习等～\n"
     ]
    }
   ],
   "source": [
    "result = que.process_question(\"计算机科学技术学院开设的评价不错的专业选修有哪些\")\n",
    "print(que.question_posseg())\n",
    "print(\"查询结果: \",result)"
   ]
  },
  {
   "cell_type": "markdown",
   "metadata": {},
   "source": [
    "### 问题9 - sst 评价较好的课程 （某个类型的评价好的课程）"
   ]
  },
  {
   "cell_type": "code",
   "execution_count": 3,
   "metadata": {},
   "outputs": [
    {
     "name": "stdout",
     "output_type": "stream",
     "text": [
      "抽象问题为: 评价不错的sst课程\n",
      "使用模版编号：  9\n",
      "问题模版： sst 给分好的课\n",
      "古典诗词导读 0.47578383508990973\n",
      "中国当代小说选读 0.7967989644890668\n",
      "性别与历史 0.9459384583570872\n",
      "从计算到智能 0.8617063958074713\n",
      "人类进化 0.9720782964594336\n",
      "欧洲电影解析与实践 0.9476528885409373\n",
      "['评价/n', '不错/a', '的/uj', '七大模块/sst', '课程/n']\n",
      "查询结果:  七大模块评价不错的课程有: 古典诗词导读、中国当代小说选读、性别与历史、从计算到智能、人类进化、欧洲电影解析与实践等～\n"
     ]
    }
   ],
   "source": [
    "que = Question()\n",
    "result = que.process_question(\"评价不错的七大模块课程\")\n",
    "print(que.question_posseg())\n",
    "print(\"查询结果: \",result)"
   ]
  },
  {
   "cell_type": "code",
   "execution_count": null,
   "metadata": {},
   "outputs": [],
   "source": []
  }
 ],
 "metadata": {
  "kernelspec": {
   "display_name": "Python 3",
   "language": "python",
   "name": "python3"
  },
  "language_info": {
   "codemirror_mode": {
    "name": "ipython",
    "version": 3
   },
   "file_extension": ".py",
   "mimetype": "text/x-python",
   "name": "python",
   "nbconvert_exporter": "python",
   "pygments_lexer": "ipython3",
   "version": "3.7.6"
  }
 },
 "nbformat": 4,
 "nbformat_minor": 2
}
